{
 "cells": [
  {
   "cell_type": "code",
   "execution_count": 15,
   "id": "b04ec89e-c0d0-47f0-9852-accec1eeceb8",
   "metadata": {},
   "outputs": [],
   "source": [
    "import os\n",
    "import pandas as pd\n",
    "import matplotlib.pyplot as plt\n",
    "import seaborn as sns\n",
    "import numpy as np\n",
    "\n",
    "from datetime import datetime, date\n",
    "sns.set_style('darkgrid')"
   ]
  },
  {
   "cell_type": "code",
   "execution_count": 2,
   "id": "b517d369-b17a-4da4-88b0-e83cb16030ea",
   "metadata": {},
   "outputs": [
    {
     "name": "stdout",
     "output_type": "stream",
     "text": [
      "data/tb_players_medalha.csv\n",
      "data/tb_lobby_stats_player.csv\n",
      "data/tb_medalha.csv\n",
      "data/tb_players.csv\n",
      "data/.ipynb_checkpoints/tb_medalha-checkpoint.csv\n",
      "data/.ipynb_checkpoints/tb_players_medalha-checkpoint.csv\n",
      "data/.ipynb_checkpoints/tb_players-checkpoint.csv\n",
      "data/.ipynb_checkpoints/tb_lobby_stats_player-checkpoint.csv\n"
     ]
    }
   ],
   "source": [
    "for dirname, _, filenames in os.walk('data'):\n",
    "    for filename in filenames:\n",
    "        print(os.path.join(dirname, filename))"
   ]
  },
  {
   "cell_type": "code",
   "execution_count": 3,
   "id": "124c68ed-4a42-4044-989a-84c48e402eb6",
   "metadata": {},
   "outputs": [],
   "source": [
    "df_players = pd.read_csv('data/tb_players.csv')\n",
    "df_medalha = pd.read_csv('data/tb_medalha.csv')\n",
    "df_play_med = pd.read_csv('data/tb_players_medalha.csv')\n",
    "df_stats = pd.read_csv('data/tb_lobby_stats_player.csv')"
   ]
  },
  {
   "cell_type": "code",
   "execution_count": 4,
   "id": "d4fd5718-8c19-4f7f-8566-da9139a27b93",
   "metadata": {},
   "outputs": [
    {
     "data": {
      "text/html": [
       "<div>\n",
       "<style scoped>\n",
       "    .dataframe tbody tr th:only-of-type {\n",
       "        vertical-align: middle;\n",
       "    }\n",
       "\n",
       "    .dataframe tbody tr th {\n",
       "        vertical-align: top;\n",
       "    }\n",
       "\n",
       "    .dataframe thead th {\n",
       "        text-align: right;\n",
       "    }\n",
       "</style>\n",
       "<table border=\"1\" class=\"dataframe\">\n",
       "  <thead>\n",
       "    <tr style=\"text-align: right;\">\n",
       "      <th></th>\n",
       "      <th>idPlayer</th>\n",
       "      <th>flFacebook</th>\n",
       "      <th>flTwitter</th>\n",
       "      <th>flTwitch</th>\n",
       "      <th>descCountry</th>\n",
       "      <th>dtBirth</th>\n",
       "      <th>dtRegistration</th>\n",
       "    </tr>\n",
       "  </thead>\n",
       "  <tbody>\n",
       "    <tr>\n",
       "      <th>0</th>\n",
       "      <td>1</td>\n",
       "      <td>0</td>\n",
       "      <td>0</td>\n",
       "      <td>0</td>\n",
       "      <td>cl</td>\n",
       "      <td>NaN</td>\n",
       "      <td>2021-03-19 21:31:39</td>\n",
       "    </tr>\n",
       "    <tr>\n",
       "      <th>1</th>\n",
       "      <td>2</td>\n",
       "      <td>0</td>\n",
       "      <td>0</td>\n",
       "      <td>0</td>\n",
       "      <td>br</td>\n",
       "      <td>NaN</td>\n",
       "      <td>2020-05-06 19:28:29</td>\n",
       "    </tr>\n",
       "    <tr>\n",
       "      <th>2</th>\n",
       "      <td>3</td>\n",
       "      <td>0</td>\n",
       "      <td>0</td>\n",
       "      <td>0</td>\n",
       "      <td>br</td>\n",
       "      <td>NaN</td>\n",
       "      <td>2020-01-28 13:00:38</td>\n",
       "    </tr>\n",
       "    <tr>\n",
       "      <th>3</th>\n",
       "      <td>4</td>\n",
       "      <td>0</td>\n",
       "      <td>0</td>\n",
       "      <td>0</td>\n",
       "      <td>br</td>\n",
       "      <td>NaN</td>\n",
       "      <td>2017-05-31 16:13:51</td>\n",
       "    </tr>\n",
       "    <tr>\n",
       "      <th>4</th>\n",
       "      <td>5</td>\n",
       "      <td>0</td>\n",
       "      <td>0</td>\n",
       "      <td>0</td>\n",
       "      <td>ar</td>\n",
       "      <td>NaN</td>\n",
       "      <td>2021-02-08 11:57:21</td>\n",
       "    </tr>\n",
       "  </tbody>\n",
       "</table>\n",
       "</div>"
      ],
      "text/plain": [
       "   idPlayer  flFacebook  flTwitter  flTwitch descCountry dtBirth  \\\n",
       "0         1           0          0         0          cl     NaN   \n",
       "1         2           0          0         0          br     NaN   \n",
       "2         3           0          0         0          br     NaN   \n",
       "3         4           0          0         0          br     NaN   \n",
       "4         5           0          0         0          ar     NaN   \n",
       "\n",
       "        dtRegistration  \n",
       "0  2021-03-19 21:31:39  \n",
       "1  2020-05-06 19:28:29  \n",
       "2  2020-01-28 13:00:38  \n",
       "3  2017-05-31 16:13:51  \n",
       "4  2021-02-08 11:57:21  "
      ]
     },
     "execution_count": 4,
     "metadata": {},
     "output_type": "execute_result"
    }
   ],
   "source": [
    "df_players.head(5)"
   ]
  },
  {
   "cell_type": "code",
   "execution_count": 5,
   "id": "9f4a2e77-c38c-4ec0-a43c-93b7f3dcaa1d",
   "metadata": {},
   "outputs": [
    {
     "name": "stdout",
     "output_type": "stream",
     "text": [
      "<class 'pandas.core.frame.DataFrame'>\n",
      "RangeIndex: 2716 entries, 0 to 2715\n",
      "Data columns (total 7 columns):\n",
      " #   Column          Non-Null Count  Dtype \n",
      "---  ------          --------------  ----- \n",
      " 0   idPlayer        2716 non-null   int64 \n",
      " 1   flFacebook      2716 non-null   int64 \n",
      " 2   flTwitter       2716 non-null   int64 \n",
      " 3   flTwitch        2716 non-null   int64 \n",
      " 4   descCountry     2716 non-null   object\n",
      " 5   dtBirth         2008 non-null   object\n",
      " 6   dtRegistration  2716 non-null   object\n",
      "dtypes: int64(4), object(3)\n",
      "memory usage: 148.7+ KB\n"
     ]
    }
   ],
   "source": [
    "df_players.info()"
   ]
  },
  {
   "cell_type": "code",
   "execution_count": 6,
   "id": "0cbbd99e-ffe0-421c-b9dc-867d1323c123",
   "metadata": {},
   "outputs": [
    {
     "data": {
      "text/plain": [
       "1692"
      ]
     },
     "execution_count": 6,
     "metadata": {},
     "output_type": "execute_result"
    }
   ],
   "source": [
    "df_players['dtBirth'].nunique()"
   ]
  },
  {
   "cell_type": "code",
   "execution_count": 7,
   "id": "d4671ee1-c9d8-4986-9508-049833d1121a",
   "metadata": {},
   "outputs": [
    {
     "name": "stdout",
     "output_type": "stream",
     "text": [
      "2008\n",
      "708\n"
     ]
    }
   ],
   "source": [
    "print(df_players[df_players['dtBirth'].notna()].shape[0])\n",
    "print(df_players[df_players['dtBirth'].isna()].shape[0])"
   ]
  },
  {
   "cell_type": "code",
   "execution_count": 8,
   "id": "e3827079-72e9-441e-bd1a-ce091b3d7971",
   "metadata": {},
   "outputs": [
    {
     "data": {
      "text/plain": [
       "'2013-06-16 09:59:06'"
      ]
     },
     "execution_count": 8,
     "metadata": {},
     "output_type": "execute_result"
    }
   ],
   "source": [
    "df_players['dtRegistration'].min()"
   ]
  },
  {
   "cell_type": "code",
   "execution_count": 9,
   "id": "853f925b-e669-4f5a-b8de-c9194418b931",
   "metadata": {},
   "outputs": [],
   "source": [
    "df_players['dtRegistration'] = pd.to_datetime(df_players['dtRegistration'], format='%Y-%m-%d %H:%M:%S')"
   ]
  },
  {
   "cell_type": "code",
   "execution_count": 10,
   "id": "524122b8-88f8-40ac-b415-412d62e18ca3",
   "metadata": {},
   "outputs": [
    {
     "data": {
      "text/plain": [
       "0       2021\n",
       "1       2020\n",
       "2       2020\n",
       "3       2017\n",
       "4       2021\n",
       "        ... \n",
       "2711    2021\n",
       "2712    2019\n",
       "2713    2017\n",
       "2714    2019\n",
       "2715    2018\n",
       "Name: dtRegistration_year, Length: 2716, dtype: int64"
      ]
     },
     "execution_count": 10,
     "metadata": {},
     "output_type": "execute_result"
    }
   ],
   "source": [
    "df_players['dtRegistration_year'] = df_players['dtRegistration'].dt.year\n",
    "df_players['dtRegistration_year']"
   ]
  },
  {
   "cell_type": "code",
   "execution_count": 11,
   "id": "11bdc837-dd28-4222-82bf-a4b4bb98f2f1",
   "metadata": {},
   "outputs": [
    {
     "data": {
      "text/plain": [
       "<AxesSubplot:xlabel='dtRegistration_year'>"
      ]
     },
     "execution_count": 11,
     "metadata": {},
     "output_type": "execute_result"
    },
    {
     "data": {
      "image/png": "[encoded data removed]",
      "text/plain": [
       "<Figure size 432x288 with 1 Axes>"
      ]
     },
     "metadata": {},
     "output_type": "display_data"
    }
   ],
   "source": [
    "reg_year_count = df_players.groupby('dtRegistration_year')['dtRegistration_year'].count()\n",
    "\n",
    "sns.lineplot(x=reg_year_count.index, y=reg_year_count.values)"
   ]
  },
  {
   "cell_type": "code",
   "execution_count": 12,
   "id": "eca36da9-1eb1-4d57-acc3-f984bc28c181",
   "metadata": {},
   "outputs": [
    {
     "data": {
      "text/plain": [
       "2013"
      ]
     },
     "execution_count": 12,
     "metadata": {},
     "output_type": "execute_result"
    }
   ],
   "source": [
    "df_players['dtRegistration_year'].min()"
   ]
  },
  {
   "cell_type": "code",
   "execution_count": 13,
   "id": "7d9c6862-3da9-4f81-82b1-008e7a5eb9da",
   "metadata": {},
   "outputs": [
    {
     "data": {
      "image/png": "[encoded data removed]",
      "text/plain": [
       "<Figure size 792x432 with 1 Axes>"
      ]
     },
     "metadata": {},
     "output_type": "display_data"
    }
   ],
   "source": [
    "reg_year_count = df_players[~df_players['descCountry'].isin(['ar', 'br'])][['dtRegistration_year', 'descCountry']].value_counts()\n",
    "\n",
    "plt.figure(figsize=(11, 6))\n",
    "ax = sns.lineplot(data=reg_year_count, x='dtRegistration_year', y=reg_year_count.values, hue='descCountry')\n",
    "ax.set_xlim(2013, 2021)\n",
    "plt.show()"
   ]
  },
  {
   "cell_type": "code",
   "execution_count": null,
   "id": "5232a52f-cec5-4810-9761-e0e4b3674a66",
   "metadata": {},
   "outputs": [],
   "source": [
    "def age(born):\n",
    "    today = date.today()\n",
    "    \n",
    "    if born is np.nan:\n",
    "        return np.nan\n",
    "    \n",
    "    return today.year - born.year - ((today.month, today.day) < (born.month, born.day))\n",
    "\n",
    "df_players['age'] "
   ]
  },
  {
   "cell_type": "code",
   "execution_count": 14,
   "id": "9142cd04-fd5d-4566-9d1c-fde129cd350b",
   "metadata": {},
   "outputs": [
    {
     "data": {
      "text/html": [
       "<div>\n",
       "<style scoped>\n",
       "    .dataframe tbody tr th:only-of-type {\n",
       "        vertical-align: middle;\n",
       "    }\n",
       "\n",
       "    .dataframe tbody tr th {\n",
       "        vertical-align: top;\n",
       "    }\n",
       "\n",
       "    .dataframe thead th {\n",
       "        text-align: right;\n",
       "    }\n",
       "</style>\n",
       "<table border=\"1\" class=\"dataframe\">\n",
       "  <thead>\n",
       "    <tr style=\"text-align: right;\">\n",
       "      <th></th>\n",
       "      <th>idPlayer</th>\n",
       "      <th>flFacebook</th>\n",
       "      <th>flTwitter</th>\n",
       "      <th>flTwitch</th>\n",
       "      <th>dtRegistration_year</th>\n",
       "    </tr>\n",
       "  </thead>\n",
       "  <tbody>\n",
       "    <tr>\n",
       "      <th>count</th>\n",
       "      <td>2716.00000</td>\n",
       "      <td>2716.000000</td>\n",
       "      <td>2716.000000</td>\n",
       "      <td>2716.000000</td>\n",
       "      <td>2716.000000</td>\n",
       "    </tr>\n",
       "    <tr>\n",
       "      <th>mean</th>\n",
       "      <td>1358.50000</td>\n",
       "      <td>0.023196</td>\n",
       "      <td>0.016200</td>\n",
       "      <td>0.019514</td>\n",
       "      <td>2018.654271</td>\n",
       "    </tr>\n",
       "    <tr>\n",
       "      <th>std</th>\n",
       "      <td>784.18599</td>\n",
       "      <td>0.150553</td>\n",
       "      <td>0.126268</td>\n",
       "      <td>0.138348</td>\n",
       "      <td>1.842446</td>\n",
       "    </tr>\n",
       "    <tr>\n",
       "      <th>min</th>\n",
       "      <td>1.00000</td>\n",
       "      <td>0.000000</td>\n",
       "      <td>0.000000</td>\n",
       "      <td>0.000000</td>\n",
       "      <td>2013.000000</td>\n",
       "    </tr>\n",
       "    <tr>\n",
       "      <th>25%</th>\n",
       "      <td>679.75000</td>\n",
       "      <td>0.000000</td>\n",
       "      <td>0.000000</td>\n",
       "      <td>0.000000</td>\n",
       "      <td>2017.000000</td>\n",
       "    </tr>\n",
       "    <tr>\n",
       "      <th>50%</th>\n",
       "      <td>1358.50000</td>\n",
       "      <td>0.000000</td>\n",
       "      <td>0.000000</td>\n",
       "      <td>0.000000</td>\n",
       "      <td>2019.000000</td>\n",
       "    </tr>\n",
       "    <tr>\n",
       "      <th>75%</th>\n",
       "      <td>2037.25000</td>\n",
       "      <td>0.000000</td>\n",
       "      <td>0.000000</td>\n",
       "      <td>0.000000</td>\n",
       "      <td>2020.000000</td>\n",
       "    </tr>\n",
       "    <tr>\n",
       "      <th>max</th>\n",
       "      <td>2716.00000</td>\n",
       "      <td>1.000000</td>\n",
       "      <td>1.000000</td>\n",
       "      <td>1.000000</td>\n",
       "      <td>2022.000000</td>\n",
       "    </tr>\n",
       "  </tbody>\n",
       "</table>\n",
       "</div>"
      ],
      "text/plain": [
       "         idPlayer   flFacebook    flTwitter     flTwitch  dtRegistration_year\n",
       "count  2716.00000  2716.000000  2716.000000  2716.000000          2716.000000\n",
       "mean   1358.50000     0.023196     0.016200     0.019514          2018.654271\n",
       "std     784.18599     0.150553     0.126268     0.138348             1.842446\n",
       "min       1.00000     0.000000     0.000000     0.000000          2013.000000\n",
       "25%     679.75000     0.000000     0.000000     0.000000          2017.000000\n",
       "50%    1358.50000     0.000000     0.000000     0.000000          2019.000000\n",
       "75%    2037.25000     0.000000     0.000000     0.000000          2020.000000\n",
       "max    2716.00000     1.000000     1.000000     1.000000          2022.000000"
      ]
     },
     "execution_count": 14,
     "metadata": {},
     "output_type": "execute_result"
    }
   ],
   "source": [
    "df_players.describe()"
   ]
  }
 ],
 "metadata": {
  "kernelspec": {
   "display_name": "Python 3 (ipykernel)",
   "language": "python",
   "name": "python3"
  },
  "language_info": {
   "codemirror_mode": {
    "name": "ipython",
    "version": 3
   },
   "file_extension": ".py",
   "mimetype": "text/x-python",
   "name": "python",
   "nbconvert_exporter": "python",
   "pygments_lexer": "ipython3",
   "version": "3.9.7"
  }
 },
 "nbformat": 4,
 "nbformat_minor": 5
}
